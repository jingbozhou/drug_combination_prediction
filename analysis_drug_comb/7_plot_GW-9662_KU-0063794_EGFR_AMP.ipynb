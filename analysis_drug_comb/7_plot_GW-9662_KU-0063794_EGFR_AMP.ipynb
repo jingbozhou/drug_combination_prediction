{
 "cells": [
  {
   "cell_type": "code",
   "execution_count": 1,
   "metadata": {
    "code_folding": [
     15,
     25
    ]
   },
   "outputs": [],
   "source": [
    "import os, sys, time, itertools, pickle\n",
    "from functools import partial\n",
    "from scipy import stats\n",
    "from statsmodels.stats import multitest\n",
    "import numpy as np\n",
    "import pandas as pd\n",
    "\n",
    "import matplotlib as mpl\n",
    "import matplotlib.pyplot as plt\n",
    "import seaborn as sns\n",
    "\n",
    "from mpire import WorkerPool\n",
    "\n",
    "DATA_DIR = \"/home/jingbozhou/Project/CombDrug/runAddMut/8-analysis/rawData/\"\n",
    "\n",
    "def readCombData(cancer_type=\"All\"):\n",
    "    comb_info = pd.read_csv(os.path.join(DATA_DIR, \"drug_combination_info.csv\"))\n",
    "    if cancer_type != \"All\":\n",
    "        # 'Breast Cancer', 'Colon Cancer', 'Ovarian Cancer',\n",
    "        # 'Lung Cancer'\n",
    "        comb_info = comb_info[comb_info[\"primary_disease\"]==cancer_type]\n",
    "    \n",
    "    comb_info = comb_info.drop_duplicates(subset=[\"Drug_row_cid\", \"Drug_col_cid\", \"Cell_line_name\"]).copy()\n",
    "    return comb_info\n",
    "\n",
    "def getMutFeatData(feat_list):\n",
    "    \"\"\"\n",
    "    Return data with have mutation features\n",
    "    \n",
    "    :params feat_list: List for mutation type\n",
    "    \n",
    "    EX:\n",
    "    getMutFeatData([\"BRCA1_DEL\", \"TP53_MUT\"], cancer_type=\"Breast Cancer\")\n",
    "    \"\"\"\n",
    "    ## Check whether gene_list is list\n",
    "    if not isinstance(feat_list, list):\n",
    "        raise ValueError(\"Please input a list for feat_list params\")\n",
    "    \n",
    "    feat_data = pd.read_csv(os.path.join(DATA_DIR, \"gene_feat_binary.csv\"), \n",
    "                            index_col=\"DepMap_ID\", \n",
    "                            usecols=[\"DepMap_ID\"]+feat_list)\n",
    "    \n",
    "    if len(feat_list) > 1:\n",
    "        feat_data[\"+\".join(feat_list)] = feat_data[feat_list].all(axis=1).astype(int)\n",
    "        feat_data = feat_data.drop(columns=feat_list)\n",
    "    \n",
    "    return feat_data"
   ]
  },
  {
   "cell_type": "code",
   "execution_count": 2,
   "metadata": {},
   "outputs": [
    {
     "data": {
      "image/png": "[encoded data removed]",
      "text/plain": [
       "<Figure size 576x432 with 1 Axes>"
      ]
     },
     "metadata": {},
     "output_type": "display_data"
    }
   ],
   "source": [
    "###\n",
    "cancer_type = \"All\"\n",
    "comb_name = \"GW-9662+Ku-0063794\"\n",
    "feat_name = \"EGFR_AMP\"\n",
    "#syn_metric_list = ['Bliss']\n",
    "\n",
    "# Read combination information data\n",
    "comb_info = readCombData(cancer_type=cancer_type)\n",
    "\n",
    "# Get drug combination name to cid combination\n",
    "with open(os.path.join(DATA_DIR, \"all_drug_comb_2cid.pickle\"), \"rb\") as f:\n",
    "    drugcomb2cid = pickle.load(f)\n",
    "    \n",
    "drug_1, drug_2 = comb_name.split(\"+\")\n",
    "if (drug_1, drug_2) in drugcomb2cid:\n",
    "    cid_1, cid_2 = drugcomb2cid[(drug_1, drug_2)]\n",
    "else:\n",
    "    cid_1, cid_2 = drugcomb2cid[(drug_2, drug_1)]\n",
    "    \n",
    "#\n",
    "feat_data = getMutFeatData([feat_name])\n",
    "    \n",
    "data = comb_info[((comb_info[\"Drug_row_cid\"]==cid_1)&\\\n",
    "                  (comb_info[\"Drug_col_cid\"]==cid_2))|\\\n",
    "                 ((comb_info[\"Drug_row_cid\"]==cid_2)&\\\n",
    "                  (comb_info[\"Drug_col_cid\"]==cid_1))].copy()\n",
    "data = data.merge(feat_data, left_on=\"DepMap_ID\", right_on=\"DepMap_ID\")\n",
    "    \n",
    "data_sel = data[['ZIP', 'Bliss', \n",
    "                 'Loewe', 'HSA', \n",
    "                 feat_name]].melt(id_vars=feat_name,\n",
    "                                  value_vars=['ZIP', 'Bliss', 'Loewe', 'HSA'],\n",
    "                                  var_name=\"Synergy_score\", value_name='Value')\n",
    "data_sel = data_sel.replace({feat_name:{0:\"No\", 1:\"Yes\"}})\n",
    "\n",
    "#data_sel = data_sel.round(2)\n",
    "#data_sel = data_sel.drop_duplicates(subset=[\"Value\"])\n",
    "\n",
    "sns.set(font_scale=1.2, rc={'figure.figsize':(8,6)}, style=\"ticks\")\n",
    "\n",
    "ax = sns.boxplot(x=\"Synergy_score\", y=\"Value\", hue=feat_name,\n",
    "                 hue_order=[\"No\", \"Yes\"],\n",
    "                 data=data_sel, showfliers=False, boxprops={'alpha': 0.3})\n",
    "\n",
    "sns.stripplot(x=\"Synergy_score\", y=\"Value\", hue=feat_name,\n",
    "              hue_order=[\"No\", \"Yes\"],\n",
    "              data=data_sel, size=6, linewidth=0, dodge=True, ax=ax)\n",
    "\n",
    "ax.set(xlabel=\"\", ylabel=\"Synergy score\")\n",
    "#ax.legend(title=\"\", loc=4, frameon=False)\n",
    "handles, labels = ax.get_legend_handles_labels()\n",
    "        \n",
    "ax.legend(handles=handles[:2],\n",
    "              labels=[\"No\", \"Yes\"],\n",
    "              #loc=4,\n",
    "              title=feat_name, frameon=False)\n",
    "\n",
    "ax.spines.right.set_visible(False)\n",
    "ax.spines.top.set_visible(False)\n",
    "\n",
    "#plt.savefig('./plotRes/_GW-9662+Ku-0063794_EGFR_AMP.svg', format='svg',bbox_inches='tight', transparent=True)"
   ]
  },
  {
   "cell_type": "code",
   "execution_count": null,
   "metadata": {},
   "outputs": [],
   "source": []
  }
 ],
 "metadata": {
  "kernelspec": {
   "display_name": "Python 3 (ipykernel)",
   "language": "python",
   "name": "python3"
  },
  "language_info": {
   "codemirror_mode": {
    "name": "ipython",
    "version": 3
   },
   "file_extension": ".py",
   "mimetype": "text/x-python",
   "name": "python",
   "nbconvert_exporter": "python",
   "pygments_lexer": "ipython3",
   "version": "3.9.7"
  }
 },
 "nbformat": 4,
 "nbformat_minor": 4
}
