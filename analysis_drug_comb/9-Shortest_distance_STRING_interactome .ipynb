{
 "cells": [
  {
   "cell_type": "code",
   "execution_count": 1,
   "metadata": {
    "code_folding": []
   },
   "outputs": [],
   "source": [
    "%matplotlib inline\n",
    "import os, csv, sys, collections\n",
    "import numpy as np\n",
    "import pandas as pd\n",
    "\n",
    "import matplotlib as mpl\n",
    "import matplotlib.pyplot as plt\n",
    "import seaborn as sns\n",
    "\n",
    "\n",
    "DATA_DIR = \"/home/jingbozhou/Project/CombDrug/runAddMut/8-analysis/rawData/\"\n",
    "OUT_DIR = \"/home/jingbozhou/Project/CombDrug/runAddMut/8-analysis/result/\"\n",
    "\n",
    "sig_raw = pd.read_csv(os.path.join(OUT_DIR, \"resData/\", \"All_sig_1.csv\"))\n",
    "sig_raw = sig_raw[(sig_raw[\"p_value\"]<=0.001)&(sig_raw[\"FDR\"]<=0.05)&(np.abs(sig_raw[\"sign_effectsize\"])>=2)].copy()\n",
    "sig_raw['log10pvalue'] = -(np.log10(sig_raw[\"p_value\"]))\n",
    "sig_raw[\"Feat_comb\"] = sig_raw[\"Comb_name\"] + \"-\" + sig_raw[\"Feat_name\"]\n",
    "\n",
    "sig_ppi = pd.read_csv(os.path.join(OUT_DIR, \"resData/\", \"All_sig_ppi.csv\"))\n",
    "sig_ppi = sig_ppi.drop(columns=[\"Drug_1_target\", \"Drug_2_target\"])\n",
    "\n",
    "sig_sel = sig_raw.merge(sig_ppi, left_on=[\"Comb_name\", \"Gene_name\"], right_on=[\"Comb_name\", \"Gene_name\"])"
   ]
  },
  {
   "cell_type": "code",
   "execution_count": null,
   "metadata": {},
   "outputs": [],
   "source": []
  },
  {
   "cell_type": "code",
   "execution_count": 2,
   "metadata": {
    "code_folding": []
   },
   "outputs": [],
   "source": [
    "def getPPILen(x):\n",
    "    if pd.isnull(x):\n",
    "        out_val = \"NA\"\n",
    "    else:\n",
    "        ppi_len = x.split(\", \")\n",
    "        out_val = len(ppi_len) - 1\n",
    "        if out_val > 5:\n",
    "            out_val = \">5\"\n",
    "    return out_val\n",
    "\n",
    "sig_sel[\"drug_1_gene_len\"] = sig_sel[\"drug_1_gene_path\"].apply(getPPILen)\n",
    "sig_sel[\"drug_2_gene_len\"] = sig_sel[\"drug_2_gene_path\"].apply(getPPILen)\n",
    "\n",
    "sig_ppi_len = pd.concat([sig_sel[pd.notnull(sig_sel[\"Drug_1_target\"])][[\"drug_1_gene_len\"]].rename(columns={\"drug_1_gene_len\":\"Distance\"}), \n",
    "                         sig_sel[pd.notnull(sig_sel[\"Drug_2_target\"])][[\"drug_2_gene_len\"]].rename(columns={\"drug_2_gene_len\":\"Distance\"})\n",
    "                        ], axis=0, ignore_index=True)\n",
    "sig_ppi_len = sig_ppi_len.value_counts().to_frame()\n",
    "sig_ppi_len = sig_ppi_len.rename(columns={0:\"Number\"})\n",
    "sig_ppi_len = sig_ppi_len.loc[[\"NA\"]+list(range(6))+[\">5\"]]\n",
    "sig_ppi_len = sig_ppi_len.reset_index()\n",
    "\n",
    "sig_ppi_len[\"Percentages\"] = sig_ppi_len[\"Number\"] / sig_ppi_len[\"Number\"].sum() * 100"
   ]
  },
  {
   "cell_type": "code",
   "execution_count": null,
   "metadata": {},
   "outputs": [],
   "source": []
  },
  {
   "cell_type": "code",
   "execution_count": 3,
   "metadata": {
    "scrolled": false
   },
   "outputs": [
    {
     "name": "stdout",
     "output_type": "stream",
     "text": [
      "Rectangle(xy=(-0.4, 0), width=0.8, height=4.57237, angle=0)\n",
      "Rectangle(xy=(0.6, 0), width=0.8, height=0.0486967, angle=0)\n",
      "Rectangle(xy=(1.6, 0), width=0.8, height=2.12984, angle=0)\n",
      "Rectangle(xy=(2.6, 0), width=0.8, height=28.7054, angle=0)\n",
      "Rectangle(xy=(3.6, 0), width=0.8, height=52.0491, angle=0)\n",
      "Rectangle(xy=(4.6, 0), width=0.8, height=11.436, angle=0)\n",
      "Rectangle(xy=(5.6, 0), width=0.8, height=0.922675, angle=0)\n",
      "Rectangle(xy=(6.6, 0), width=0.8, height=0.135838, angle=0)\n"
     ]
    },
    {
     "data": {
      "image/png": "[encoded data removed]",
      "text/plain": [
       "<Figure size 576x432 with 1 Axes>"
      ]
     },
     "metadata": {},
     "output_type": "display_data"
    }
   ],
   "source": [
    "sns.set(style=\"ticks\", font_scale=1.2, rc={'figure.figsize':(8, 6)})\n",
    "\n",
    "g = sns.barplot(x=\"Distance\", y=\"Percentages\", data=sig_ppi_len)\n",
    "\n",
    "for p in g.patches:\n",
    "    print(p)\n",
    "    height = p.get_height()\n",
    "    plt.text(p.get_x()+p.get_width()/2.,height+0.5,\"{:.2f}%\".format(height),ha=\"center\")\n",
    "    \n",
    "#g.set(ylim=(0, 55))\n",
    "g.spines.right.set_visible(False)\n",
    "g.spines.top.set_visible(False)\n",
    "\n",
    "#plt.savefig(\"./plotRes/_all_ppi_len.svg\", format=\"svg\", bbox_inches=\"tight\", transparent=True)"
   ]
  },
  {
   "cell_type": "code",
   "execution_count": null,
   "metadata": {},
   "outputs": [],
   "source": []
  }
 ],
 "metadata": {
  "kernelspec": {
   "display_name": "Python 3 (ipykernel)",
   "language": "python",
   "name": "python3"
  },
  "language_info": {
   "codemirror_mode": {
    "name": "ipython",
    "version": 3
   },
   "file_extension": ".py",
   "mimetype": "text/x-python",
   "name": "python",
   "nbconvert_exporter": "python",
   "pygments_lexer": "ipython3",
   "version": "3.9.7"
  }
 },
 "nbformat": 4,
 "nbformat_minor": 4
}
